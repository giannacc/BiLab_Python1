{
 "cells": [
  {
   "cell_type": "code",
   "execution_count": 1,
   "id": "cfce478e",
   "metadata": {},
   "outputs": [
    {
     "name": "stdout",
     "output_type": "stream",
     "text": [
      "Requirement already satisfied: pyreadstat in c:\\users\\giann\\anaconda3\\lib\\site-packages (1.2.6)\n",
      "Requirement already satisfied: pandas>=1.2.0 in c:\\users\\giann\\anaconda3\\lib\\site-packages (from pyreadstat) (2.0.3)\n",
      "Requirement already satisfied: python-dateutil>=2.8.2 in c:\\users\\giann\\anaconda3\\lib\\site-packages (from pandas>=1.2.0->pyreadstat) (2.8.2)\n",
      "Requirement already satisfied: pytz>=2020.1 in c:\\users\\giann\\anaconda3\\lib\\site-packages (from pandas>=1.2.0->pyreadstat) (2023.3.post1)\n",
      "Requirement already satisfied: tzdata>=2022.1 in c:\\users\\giann\\anaconda3\\lib\\site-packages (from pandas>=1.2.0->pyreadstat) (2023.3)\n",
      "Requirement already satisfied: numpy>=1.21.0 in c:\\users\\giann\\anaconda3\\lib\\site-packages (from pandas>=1.2.0->pyreadstat) (1.24.3)\n",
      "Requirement already satisfied: six>=1.5 in c:\\users\\giann\\anaconda3\\lib\\site-packages (from python-dateutil>=2.8.2->pandas>=1.2.0->pyreadstat) (1.16.0)\n",
      "Note: you may need to restart the kernel to use updated packages.\n"
     ]
    }
   ],
   "source": [
    "pip install pyreadstat"
   ]
  },
  {
   "cell_type": "code",
   "execution_count": 2,
   "id": "b337a2de",
   "metadata": {},
   "outputs": [
    {
     "name": "stdout",
     "output_type": "stream",
     "text": [
      "Requirement already satisfied: savReaderWriter in c:\\users\\giann\\anaconda3\\lib\\site-packages (3.4.2)\n",
      "Note: you may need to restart the kernel to use updated packages.\n"
     ]
    }
   ],
   "source": [
    "pip install savReaderWriter"
   ]
  },
  {
   "cell_type": "code",
   "execution_count": 3,
   "id": "201fe48d",
   "metadata": {},
   "outputs": [],
   "source": [
    "import os\n",
    "import pickle\n",
    "import pandas as pd\n",
    "import numpy as np\n",
    "import urllib.request"
   ]
  },
  {
   "cell_type": "code",
   "execution_count": 4,
   "id": "579fd4f0",
   "metadata": {},
   "outputs": [],
   "source": [
    "import pyreadstat"
   ]
  },
  {
   "cell_type": "code",
   "execution_count": 5,
   "id": "6269a2d7",
   "metadata": {},
   "outputs": [
    {
     "ename": "PyreadstatError",
     "evalue": "File ../../_data/endes/2019/REC0111.sav does not exist!",
     "output_type": "error",
     "traceback": [
      "\u001b[1;31m---------------------------------------------------------------------------\u001b[0m",
      "\u001b[1;31mPyreadstatError\u001b[0m                           Traceback (most recent call last)",
      "Cell \u001b[1;32mIn[5], line 1\u001b[0m\n\u001b[1;32m----> 1\u001b[0m rec_1 \u001b[38;5;241m=\u001b[39m pd\u001b[38;5;241m.\u001b[39mread_spss( \u001b[38;5;124mr\u001b[39m\u001b[38;5;124m\"\u001b[39m\u001b[38;5;124m../../_data/endes/2019/REC0111.sav\u001b[39m\u001b[38;5;124m\"\u001b[39m )\n\u001b[0;32m      2\u001b[0m rec_2 \u001b[38;5;241m=\u001b[39m pd\u001b[38;5;241m.\u001b[39mread_spss( \u001b[38;5;124mr\u001b[39m\u001b[38;5;124m\"\u001b[39m\u001b[38;5;124m../../_data/endes/2019/RE223132.sav\u001b[39m\u001b[38;5;124m\"\u001b[39m )\n\u001b[0;32m      3\u001b[0m rec_3 \u001b[38;5;241m=\u001b[39m pd\u001b[38;5;241m.\u001b[39mread_spss( \u001b[38;5;124mr\u001b[39m\u001b[38;5;124m\"\u001b[39m\u001b[38;5;124m../../_data/endes/2019/RE516171.sav\u001b[39m\u001b[38;5;124m\"\u001b[39m )\n",
      "File \u001b[1;32m~\\anaconda3\\Lib\\site-packages\\pandas\\io\\spss.py:62\u001b[0m, in \u001b[0;36mread_spss\u001b[1;34m(path, usecols, convert_categoricals, dtype_backend)\u001b[0m\n\u001b[0;32m     59\u001b[0m         \u001b[38;5;28;01mraise\u001b[39;00m \u001b[38;5;167;01mTypeError\u001b[39;00m(\u001b[38;5;124m\"\u001b[39m\u001b[38;5;124musecols must be list-like.\u001b[39m\u001b[38;5;124m\"\u001b[39m)\n\u001b[0;32m     60\u001b[0m     usecols \u001b[38;5;241m=\u001b[39m \u001b[38;5;28mlist\u001b[39m(usecols)  \u001b[38;5;66;03m# pyreadstat requires a list\u001b[39;00m\n\u001b[1;32m---> 62\u001b[0m df, _ \u001b[38;5;241m=\u001b[39m pyreadstat\u001b[38;5;241m.\u001b[39mread_sav(\n\u001b[0;32m     63\u001b[0m     stringify_path(path), usecols\u001b[38;5;241m=\u001b[39musecols, apply_value_formats\u001b[38;5;241m=\u001b[39mconvert_categoricals\n\u001b[0;32m     64\u001b[0m )\n\u001b[0;32m     65\u001b[0m \u001b[38;5;28;01mif\u001b[39;00m dtype_backend \u001b[38;5;129;01mis\u001b[39;00m \u001b[38;5;129;01mnot\u001b[39;00m lib\u001b[38;5;241m.\u001b[39mno_default:\n\u001b[0;32m     66\u001b[0m     df \u001b[38;5;241m=\u001b[39m df\u001b[38;5;241m.\u001b[39mconvert_dtypes(dtype_backend\u001b[38;5;241m=\u001b[39mdtype_backend)\n",
      "File \u001b[1;32mpyreadstat\\\\pyreadstat.pyx:388\u001b[0m, in \u001b[0;36mpyreadstat.pyreadstat.read_sav\u001b[1;34m()\u001b[0m\n",
      "File \u001b[1;32mpyreadstat\\\\_readstat_parser.pyx:1075\u001b[0m, in \u001b[0;36mpyreadstat._readstat_parser.run_conversion\u001b[1;34m()\u001b[0m\n",
      "\u001b[1;31mPyreadstatError\u001b[0m: File ../../_data/endes/2019/REC0111.sav does not exist!"
     ]
    }
   ],
   "source": [
    "rec_1 = pd.read_spss( r\"../../_data/endes/2019/REC0111.sav\" )\n",
    "rec_2 = pd.read_spss( r\"../../_data/endes/2019/RE223132.sav\" )\n",
    "rec_3 = pd.read_spss( r\"../../_data/endes/2019/RE516171.sav\" )"
   ]
  },
  {
   "cell_type": "code",
   "execution_count": 6,
   "id": "228c56d5",
   "metadata": {},
   "outputs": [
    {
     "name": "stdout",
     "output_type": "stream",
     "text": [
      "C:\\Users\\giann\\Documents\\GitHub\\_data\\endes\\2019\\REC0111.sav\n"
     ]
    }
   ],
   "source": [
    "import os\n",
    "\n",
    "file_path = \"../../_data/endes/2019/REC0111.sav\"\n",
    "full_path = os.path.abspath(file_path)\n",
    "print(full_path)"
   ]
  },
  {
   "cell_type": "code",
   "execution_count": 7,
   "id": "1d1cbd29",
   "metadata": {},
   "outputs": [
    {
     "ename": "PyreadstatError",
     "evalue": "File ..\\..\\_data\\endes\\2019\\REC0111.sav does not exist!",
     "output_type": "error",
     "traceback": [
      "\u001b[1;31m---------------------------------------------------------------------------\u001b[0m",
      "\u001b[1;31mPyreadstatError\u001b[0m                           Traceback (most recent call last)",
      "Cell \u001b[1;32mIn[7], line 1\u001b[0m\n\u001b[1;32m----> 1\u001b[0m rec_1 \u001b[38;5;241m=\u001b[39m pd\u001b[38;5;241m.\u001b[39mread_spss( \u001b[38;5;124mr\u001b[39m\u001b[38;5;124m\"\u001b[39m\u001b[38;5;124m..\u001b[39m\u001b[38;5;124m\\\u001b[39m\u001b[38;5;124m..\u001b[39m\u001b[38;5;124m\\\u001b[39m\u001b[38;5;124m_data\u001b[39m\u001b[38;5;124m\\\u001b[39m\u001b[38;5;124mendes\u001b[39m\u001b[38;5;124m\\\u001b[39m\u001b[38;5;124m2019\u001b[39m\u001b[38;5;124m\\\u001b[39m\u001b[38;5;124mREC0111.sav\u001b[39m\u001b[38;5;124m\"\u001b[39m )\n\u001b[0;32m      2\u001b[0m rec_2 \u001b[38;5;241m=\u001b[39m pd\u001b[38;5;241m.\u001b[39mread_spss( \u001b[38;5;124mr\u001b[39m\u001b[38;5;124m\"\u001b[39m\u001b[38;5;124m../../_data/endes/2019/RE223132.sav\u001b[39m\u001b[38;5;124m\"\u001b[39m )\n\u001b[0;32m      3\u001b[0m rec_3 \u001b[38;5;241m=\u001b[39m pd\u001b[38;5;241m.\u001b[39mread_spss( \u001b[38;5;124mr\u001b[39m\u001b[38;5;124m\"\u001b[39m\u001b[38;5;124m../../_data/endes/2019/RE516171.sav\u001b[39m\u001b[38;5;124m\"\u001b[39m )\n",
      "File \u001b[1;32m~\\anaconda3\\Lib\\site-packages\\pandas\\io\\spss.py:62\u001b[0m, in \u001b[0;36mread_spss\u001b[1;34m(path, usecols, convert_categoricals, dtype_backend)\u001b[0m\n\u001b[0;32m     59\u001b[0m         \u001b[38;5;28;01mraise\u001b[39;00m \u001b[38;5;167;01mTypeError\u001b[39;00m(\u001b[38;5;124m\"\u001b[39m\u001b[38;5;124musecols must be list-like.\u001b[39m\u001b[38;5;124m\"\u001b[39m)\n\u001b[0;32m     60\u001b[0m     usecols \u001b[38;5;241m=\u001b[39m \u001b[38;5;28mlist\u001b[39m(usecols)  \u001b[38;5;66;03m# pyreadstat requires a list\u001b[39;00m\n\u001b[1;32m---> 62\u001b[0m df, _ \u001b[38;5;241m=\u001b[39m pyreadstat\u001b[38;5;241m.\u001b[39mread_sav(\n\u001b[0;32m     63\u001b[0m     stringify_path(path), usecols\u001b[38;5;241m=\u001b[39musecols, apply_value_formats\u001b[38;5;241m=\u001b[39mconvert_categoricals\n\u001b[0;32m     64\u001b[0m )\n\u001b[0;32m     65\u001b[0m \u001b[38;5;28;01mif\u001b[39;00m dtype_backend \u001b[38;5;129;01mis\u001b[39;00m \u001b[38;5;129;01mnot\u001b[39;00m lib\u001b[38;5;241m.\u001b[39mno_default:\n\u001b[0;32m     66\u001b[0m     df \u001b[38;5;241m=\u001b[39m df\u001b[38;5;241m.\u001b[39mconvert_dtypes(dtype_backend\u001b[38;5;241m=\u001b[39mdtype_backend)\n",
      "File \u001b[1;32mpyreadstat\\\\pyreadstat.pyx:388\u001b[0m, in \u001b[0;36mpyreadstat.pyreadstat.read_sav\u001b[1;34m()\u001b[0m\n",
      "File \u001b[1;32mpyreadstat\\\\_readstat_parser.pyx:1075\u001b[0m, in \u001b[0;36mpyreadstat._readstat_parser.run_conversion\u001b[1;34m()\u001b[0m\n",
      "\u001b[1;31mPyreadstatError\u001b[0m: File ..\\..\\_data\\endes\\2019\\REC0111.sav does not exist!"
     ]
    }
   ],
   "source": [
    "rec_1 = pd.read_spss( r\"..\\..\\_data\\endes\\2019\\REC0111.sav\" )\n",
    "rec_2 = pd.read_spss( r\"../../_data/endes/2019/RE223132.sav\" )\n",
    "rec_3 = pd.read_spss( r\"../../_data/endes/2019/RE516171.sav\" )"
   ]
  },
  {
   "cell_type": "code",
   "execution_count": null,
   "id": "1a29a37b",
   "metadata": {},
   "outputs": [],
   "source": []
  }
 ],
 "metadata": {
  "kernelspec": {
   "display_name": "Python 3 (ipykernel)",
   "language": "python",
   "name": "python3"
  },
  "language_info": {
   "codemirror_mode": {
    "name": "ipython",
    "version": 3
   },
   "file_extension": ".py",
   "mimetype": "text/x-python",
   "name": "python",
   "nbconvert_exporter": "python",
   "pygments_lexer": "ipython3",
   "version": "3.11.5"
  }
 },
 "nbformat": 4,
 "nbformat_minor": 5
}
