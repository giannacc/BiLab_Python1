{
 "cells": [
  {
   "cell_type": "code",
   "execution_count": 1,
   "id": "6fa77c74",
   "metadata": {},
   "outputs": [],
   "source": [
    "import os\n",
    "import os\n",
    "import pickle\n",
    "import pandas as pd\n",
    "import numpy as np\n",
    "import urllib.request"
   ]
  },
  {
   "cell_type": "code",
   "execution_count": null,
   "id": "310905cd",
   "metadata": {},
   "outputs": [
    {
     "name": "stdout",
     "output_type": "stream",
     "text": [
      "^CFound existing installation: pyreadstat 1.2.6\n",
      "Uninstalling pyreadstat-1.2.6:\n",
      "  Would remove:\n",
      "    c:\\users\\giann\\anaconda3\\lib\\site-packages\\pyreadstat-1.2.6.dist-info\\*\n",
      "    c:\\users\\giann\\anaconda3\\lib\\site-packages\\pyreadstat\\*\n",
      "Proceed (Y/n)? \n",
      "\n"
     ]
    }
   ],
   "source": [
    "!pip uninstall pyreadstat\n",
    "!pip install pyreadstat\n",
    "import pyreadstat"
   ]
  },
  {
   "cell_type": "code",
   "execution_count": null,
   "id": "298f50f2",
   "metadata": {},
   "outputs": [],
   "source": []
  }
 ],
 "metadata": {
  "kernelspec": {
   "display_name": "Python 3 (ipykernel)",
   "language": "python",
   "name": "python3"
  },
  "language_info": {
   "codemirror_mode": {
    "name": "ipython",
    "version": 3
   },
   "file_extension": ".py",
   "mimetype": "text/x-python",
   "name": "python",
   "nbconvert_exporter": "python",
   "pygments_lexer": "ipython3",
   "version": "3.11.5"
  }
 },
 "nbformat": 4,
 "nbformat_minor": 5
}
